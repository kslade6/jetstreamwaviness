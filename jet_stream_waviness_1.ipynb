{
 "cells": [
  {
   "cell_type": "markdown",
   "id": "f2c8ba02",
   "metadata": {},
   "source": [
    "# Modeling Jet Stream Waviness \n",
    "### Alyssa Dellinger, Elliana Hebert, Katie-Rose Slade"
   ]
  },
  {
   "cell_type": "markdown",
   "id": "80c66c4c",
   "metadata": {},
   "source": [
    "## Introduction"
   ]
  },
  {
   "cell_type": "markdown",
   "id": "e26fbf0e",
   "metadata": {},
   "source": [
    "The scientific theory and model of jet stream waviness plays a pivotal role in our understanding of atmospheric dynamics and climate patterns. The jet stream, a high-altitude, fast-flowing air current, is a key component of the Earth's atmospheric circulation. In recent years, researchers have been increasingly intrigued by the phenomenon of jet stream waviness, characterized by meandering patterns that deviate from the traditional straight and zonal flow. This waviness has been linked to a range of atmospheric and climatic phenomena, including extreme weather events, prolonged periods of heat or cold, and disruptions to regional weather patterns.\n",
    "\n",
    "Understanding the factors influencing jet stream waviness is crucial for predicting and mitigating the impacts of climate change on a global scale. Scientists employ sophisticated models and theories to investigate the intricate interactions between atmospheric components, such as temperature gradients, pressure systems, and the Coriolis effect, which contribute to the development of jet stream waviness. This research not only enhances our ability to forecast weather patterns but also provides valuable insights into the broader implications of a changing climate on ecosystems, agriculture, and human societies.\n"
   ]
  },
  {
   "cell_type": "markdown",
   "id": "fe8c2348",
   "metadata": {},
   "source": [
    "## Equations"
   ]
  },
  {
   "cell_type": "markdown",
   "id": "1b52bc71",
   "metadata": {},
   "source": [
    "The principle equation we are to solve is the Linearized Planetary Geostrophic Motion model. This model is used to describe the large-scale motion of the atmosphere under the influence of the Earth's rotation. Ine the The equation is as follows:"
   ]
  },
  {
   "cell_type": "markdown",
   "id": "b601ee1d",
   "metadata": {},
   "source": [
    "\n",
    "$$\\frac{\\partial^2 \\phi_{L}}{\\partial z} - \\frac{1}{H} \\frac{\\partial\\phi_{L}}{\\partial z} + \\frac{\\beta_{L}S}{U} \\phi_{L}  = - \\Biggl ({k_{S} +\\frac{1}{H} \\Biggl)}  \\frac{Q_{0}}{U} F(x) e^{-k_{s}z}$$"
   ]
  },
  {
   "cell_type": "markdown",
   "id": "4d57f7fc",
   "metadata": {},
   "source": [
    "The boundary conditions for the model are as follows:"
   ]
  },
  {
   "cell_type": "markdown",
   "id": "5cb26067",
   "metadata": {},
   "source": [
    "\n",
    "$$ U \\frac{\\partial}{\\partial x} \\frac{\\partial \\phi_{L}}{\\partial z} + Sw_{L}  = Q_{0} G(x)  e^{-k_{s}z}$$"
   ]
  },
  {
   "cell_type": "markdown",
   "id": "a49ee1fd",
   "metadata": {},
   "source": [
    "\n",
    "$$ \\Biggl ( \\frac{\\partial}{\\partial z} - \\frac{1}{H}\\Biggl ) w_{L}  + Sw_{L}  = \\beta_{L} \\frac{\\partial \\phi_{L}}{\\partial x}$$"
   ]
  },
  {
   "cell_type": "markdown",
   "id": "8ccb2652",
   "metadata": {},
   "source": [
    "Add more about what these equations mean..."
   ]
  },
  {
   "cell_type": "markdown",
   "id": "e83fcc29",
   "metadata": {},
   "source": [
    "## Numerical methods"
   ]
  },
  {
   "cell_type": "code",
   "execution_count": 15,
   "id": "fdb46ad3",
   "metadata": {},
   "outputs": [],
   "source": [
    "import numpy as np\n",
    "import matplotlib.pyplot as plt\n",
    "from scipy.sparse import spdiags\n",
    "import math\n"
   ]
  },
  {
   "cell_type": "markdown",
   "id": "59721893",
   "metadata": {},
   "source": [
    "#### Define Variables"
   ]
  },
  {
   "cell_type": "code",
   "execution_count": 16,
   "id": "332e8565",
   "metadata": {},
   "outputs": [
    {
     "ename": "SyntaxError",
     "evalue": "invalid syntax (<ipython-input-16-1af518b8ef1a>, line 12)",
     "output_type": "error",
     "traceback": [
      "\u001b[0;36m  File \u001b[0;32m\"<ipython-input-16-1af518b8ef1a>\"\u001b[0;36m, line \u001b[0;32m12\u001b[0m\n\u001b[0;31m    wl =    #vertical velicity\u001b[0m\n\u001b[0m            ^\u001b[0m\n\u001b[0;31mSyntaxError\u001b[0m\u001b[0;31m:\u001b[0m invalid syntax\n"
     ]
    }
   ],
   "source": [
    "#define parameters\n",
    "\n",
    "k_s = 2\n",
    "beta = 1\n",
    "H = 0.5\n",
    "S = 1\n",
    "U = 1.5\n",
    "\n",
    "q0 = 1 #??\n",
    "\n",
    "def f(x):\n",
    "    return np.sin(2*x)/2\n",
    "\n",
    "def g(x):\n",
    "    return np.cos(2*x)\n",
    "\n",
    "q = np.sqrt((1/(4*H**2))-((beta*S)/U))\n",
    "\n",
    "#A = ((q0*f(x))/(2*np.exp(1/(2*H))*np.sinh(q)))*(((1/(2*H))-q)/(U*(k_s**2+(1/H)*k_s)+beta*S))*(-np.exp((1/(2*H))-q)+np.exp(-k_s))\n",
    "#\n",
    "#B = ((q0*f(x))/(2*np.exp(1/(2*H))*np.sinh(q)))*(((1/(2*H))+q)/(U*(k_s**2+(1/H)*k_s)+beta*S))*(np.exp((1/(2*H))-q)-np.exp(-k_s))\n"
   ]
  },
  {
   "cell_type": "markdown",
   "id": "6b18cc72",
   "metadata": {},
   "source": [
    "## Results"
   ]
  },
  {
   "cell_type": "markdown",
   "id": "8e717fa2",
   "metadata": {},
   "source": []
  },
  {
   "cell_type": "code",
   "execution_count": null,
   "id": "5c3ac87f",
   "metadata": {},
   "outputs": [],
   "source": [
    "#grid \n",
    "\n",
    "alpha = 1\n",
    "\n",
    "xf = 1000\n",
    "zf = 1\n",
    "\n",
    "nx = 1000\n",
    "nz = 1000\n",
    "\n",
    "x = np.linspace(0,xf,nx)\n",
    "z = np.linspace(0,zf,nt)\n",
    "\n",
    "dx = x[1]-x[0]\n",
    "dz = z[1]-z[0]\n",
    "\n",
    "#constant wavelength\n",
    "lam = np.ones(nx)\n",
    "lam = lam * (alpha*(dt)/dx)\n",
    "\n",
    "#lower bound (z=0)\n"
   ]
  },
  {
   "cell_type": "code",
   "execution_count": null,
   "id": "688678da",
   "metadata": {},
   "outputs": [],
   "source": [
    "#prop matrix\n",
    "\n",
    "data = np.array([(lam**2)*np.ones(nz), 2*(1-lam**2)*np.ones(nz), (lam**2)*np.ones(nz)])\n",
    "diags = np.array([-1, 0, 1])\n",
    "M = spdiags(data, diags, nz, nz).toarray()"
   ]
  },
  {
   "cell_type": "code",
   "execution_count": null,
   "id": "77a2ed71",
   "metadata": {},
   "outputs": [],
   "source": [
    "#model \n",
    "\n",
    "def phi(z):\n",
    "    pt_1 = (q0*f(x))/(U*(k_s**2+(1/H)*k_s)+beta*S)\n",
    "    pt_2 = (np.exp((1/(2*H))-q)+np.exp(-k_s))/(2*np.exp(1/(2*H))*np.sinh(q))\n",
    "    pt_3 = np.exp(((1/(2*H))+q)*z)\n",
    "    pt_4 = (np.exp((1/(2*H))+q)-np.exp(-k_s))/(2*np.exp(1/(2H))*np.sinh(q))\n",
    "    pt_5 = np.exp(1/(2*H)-q)*z\n",
    "    pt_6 = (k_s+(1/H))*np.exp(-k_s*z)\n",
    "    return pt_1*(-pt_2*pt_3+pt_4*pt_5-pt_6)\n",
    "\n",
    "#need bc M[0,0] and M[-1,-1]\n",
    "#for loop for model"
   ]
  },
  {
   "cell_type": "markdown",
   "id": "cdaf3b05",
   "metadata": {},
   "source": [
    "## Figures"
   ]
  },
  {
   "cell_type": "code",
   "execution_count": null,
   "id": "3473605f",
   "metadata": {},
   "outputs": [],
   "source": []
  },
  {
   "cell_type": "code",
   "execution_count": 17,
   "id": "5f1f072a",
   "metadata": {},
   "outputs": [
    {
     "data": {
      "image/png": "[encoded data removed]",
      "text/plain": [
       "<Figure size 432x288 with 1 Axes>"
      ]
     },
     "metadata": {
      "needs_background": "light"
     },
     "output_type": "display_data"
    }
   ],
   "source": [
    "#chat gpt's solution - no idea what it means or whether it is useful\n",
    "\n",
    "import numpy as np\n",
    "import matplotlib.pyplot as plt\n",
    "\n",
    "# Parameters\n",
    "L = 10.0  # Length of the domain\n",
    "T = 1.0   # Final time\n",
    "Nx = 100   # Number of spatial grid points\n",
    "Nt = 100   # Number of time steps\n",
    "\n",
    "# Spatial and temporal discretization\n",
    "dx = L / (Nx - 1)\n",
    "dt = T / Nt\n",
    "\n",
    "# Constants\n",
    "H = 1.0     # Characteristic vertical scale\n",
    "beta_L = 1.0\n",
    "S = 1.0\n",
    "U = 1.0     # Characteristic horizontal velocity scale\n",
    "k_S = 1.0\n",
    "Q0 = 1.0\n",
    "\n",
    "# Initial condition\n",
    "def initial_condition(x):\n",
    "    return np.sin(np.pi * x / L)\n",
    "\n",
    "# Initialize grid\n",
    "x_values = np.linspace(0, L, Nx)\n",
    "phi_L = initial_condition(x_values)\n",
    "\n",
    "# Time-stepping loop\n",
    "for n in range(1, Nt + 1):\n",
    "    # Compute the right-hand side\n",
    "    RHS = -((k_S + 1 / H) * Q0 / U) * np.exp(-k_S * x_values)\n",
    "\n",
    "    # Update phi_L using finite difference scheme\n",
    "    phi_L[1:-1] = phi_L[1:-1] + dt * (\n",
    "        (phi_L[2:] - 2 * phi_L[1:-1] + phi_L[:-2]) / dx**2\n",
    "        - (1 / H) * (phi_L[2:] - phi_L[:-2]) / (2 * dx)\n",
    "        + (beta_L * S / U) * phi_L[1:-1]\n",
    "        + RHS[1:-1]\n",
    "    )\n",
    "\n",
    "# Plot the result\n",
    "plt.plot(x_values, phi_L, label='Numerical Solution')\n",
    "plt.title('Numerical Solution of the PDE')\n",
    "plt.xlabel('x')\n",
    "plt.ylabel('$\\phi_L$')\n",
    "plt.legend()\n",
    "plt.show()\n"
   ]
  },
  {
   "cell_type": "code",
   "execution_count": null,
   "id": "a59b0874",
   "metadata": {},
   "outputs": [],
   "source": []
  }
 ],
 "metadata": {
  "kernelspec": {
   "display_name": "Python 3 (ipykernel)",
   "language": "python",
   "name": "python3"
  },
  "language_info": {
   "codemirror_mode": {
    "name": "ipython",
    "version": 3
   },
   "file_extension": ".py",
   "mimetype": "text/x-python",
   "name": "python",
   "nbconvert_exporter": "python",
   "pygments_lexer": "ipython3",
   "version": "3.9.13"
  }
 },
 "nbformat": 4,
 "nbformat_minor": 5
}
