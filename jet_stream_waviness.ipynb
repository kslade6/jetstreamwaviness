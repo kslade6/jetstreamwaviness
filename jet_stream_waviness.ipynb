{
 "cells": [
  {
   "cell_type": "markdown",
   "id": "1ee9753e",
   "metadata": {},
   "source": [
    "# Modeling Jet Stream Waviness \n",
    "### Alyssa Dellinger, Elliana Hebert, Katie-Rose Slade"
   ]
  },
  {
   "cell_type": "markdown",
   "id": "d732a24e",
   "metadata": {},
   "source": [
    "## Introduction"
   ]
  },
  {
   "cell_type": "markdown",
   "id": "593582a3",
   "metadata": {},
   "source": [
    "The scientific theory and model of jet stream waviness plays a pivotal role in our understanding of atmospheric dynamics and climate patterns. The jet stream, a high-altitude, fast-flowing air current, is a key component of the Earth's atmospheric circulation. In recent years, researchers have been increasingly intrigued by the phenomenon of jet stream waviness, characterized by meandering patterns that deviate from the traditional straight and zonal flow. This waviness has been linked to a range of atmospheric and climatic phenomena, including extreme weather events, prolonged periods of heat or cold, and disruptions to regional weather patterns.\n",
    "\n",
    "Understanding the factors influencing jet stream waviness is crucial for predicting and mitigating the impacts of climate change on a global scale. Scientists employ sophisticated models and theories to investigate the intricate interactions between atmospheric components, such as temperature gradients, pressure systems, and the Coriolis effect, which contribute to the development of jet stream waviness. This research not only enhances our ability to forecast weather patterns but also provides valuable insights into the broader implications of a changing climate on ecosystems, agriculture, and human societies.\n"
   ]
  },
  {
   "cell_type": "markdown",
   "id": "8c048967",
   "metadata": {},
   "source": [
    "## Equations"
   ]
  },
  {
   "cell_type": "markdown",
   "id": "780d02ac",
   "metadata": {},
   "source": [
    "The principle equation we are to solve is the Linearized Planetary Geostrophic Motion model. This model is used to describe the large-scale motion of the atmosphere under the influence of the Earth's rotation. The equation is as follows:"
   ]
  },
  {
   "cell_type": "markdown",
   "id": "5251319d",
   "metadata": {},
   "source": [
    "\n",
    "$$\\frac{\\partial^2 \\phi_{L}}{\\partial z} - \\frac{1}{H} \\frac{\\partial\\phi_{L}}{\\partial z} + \\frac{\\beta_{L}S}{U} \\phi_{L}  = - \\Biggl ({k_{S} +\\frac{1}{H} \\Biggl)}  \\frac{Q_{0}}{U} F(x) e^{-k_{s}z}$$"
   ]
  },
  {
   "cell_type": "markdown",
   "id": "e38d74e2",
   "metadata": {},
   "source": [
    "The boundry conditions for the model are as follows:"
   ]
  },
  {
   "cell_type": "markdown",
   "id": "5c7d633c",
   "metadata": {},
   "source": [
    "\n",
    "$$ U \\frac{\\partial}{\\partial x} \\frac{\\partial \\phi_{L}}{\\partial z} + Sw_{L}  = Q_{0} G(x)  e^{-k_{s}z}$$"
   ]
  },
  {
   "cell_type": "markdown",
   "id": "bb7c358e",
   "metadata": {},
   "source": [
    "\n",
    "$$ \\Biggl ( \\frac{\\partial}{\\partial z} - \\frac{1}{H}\\Biggl ) w_{L}  + Sw_{L}  = \\beta_{L} \\frac{\\partial \\phi_{L}}{\\partial x}$$"
   ]
  },
  {
   "cell_type": "markdown",
   "id": "8195ca23",
   "metadata": {},
   "source": [
    "Add more about what these equations mean..."
   ]
  },
  {
   "cell_type": "markdown",
   "id": "897e2fd6",
   "metadata": {},
   "source": [
    "## Numerical methods"
   ]
  },
  {
   "cell_type": "code",
   "execution_count": 10,
   "id": "13d0b9f1",
   "metadata": {},
   "outputs": [],
   "source": [
    "import numpy as np\n",
    "import matplotlib.pyplot as plt\n"
   ]
  },
  {
   "cell_type": "markdown",
   "id": "94a3c9d2",
   "metadata": {},
   "source": [
    "# Define Varibles"
   ]
  },
  {
   "cell_type": "code",
   "execution_count": null,
   "id": "44da775e",
   "metadata": {},
   "outputs": [],
   "source": []
  },
  {
   "cell_type": "markdown",
   "id": "9c910e1d",
   "metadata": {},
   "source": [
    "## Results"
   ]
  },
  {
   "cell_type": "markdown",
   "id": "3d97437a",
   "metadata": {},
   "source": []
  },
  {
   "cell_type": "markdown",
   "id": "5cc16589",
   "metadata": {},
   "source": [
    "## Figures"
   ]
  },
  {
   "cell_type": "code",
   "execution_count": null,
   "id": "50028a41",
   "metadata": {},
   "outputs": [],
   "source": []
  },
  {
   "cell_type": "code",
   "execution_count": null,
   "id": "ba7c348d",
   "metadata": {},
   "outputs": [],
   "source": []
  }
 ],
 "metadata": {
  "kernelspec": {
   "display_name": "Python 3",
   "language": "python",
   "name": "python3"
  },
  "language_info": {
   "codemirror_mode": {
    "name": "ipython",
    "version": 3
   },
   "file_extension": ".py",
   "mimetype": "text/x-python",
   "name": "python",
   "nbconvert_exporter": "python",
   "pygments_lexer": "ipython3",
   "version": "3.8.8"
  }
 },
 "nbformat": 4,
 "nbformat_minor": 5
}
