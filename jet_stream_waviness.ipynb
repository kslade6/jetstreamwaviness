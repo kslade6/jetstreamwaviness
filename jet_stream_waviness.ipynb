{
 "cells": [
  {
   "cell_type": "markdown",
   "id": "53be8df9",
   "metadata": {},
   "source": [
    "# Modeling Jet Stream Waviness \n",
    "### Alyssa Dellinger, Elliana Hebert, Katie-Rose Slade"
   ]
  },
  {
   "cell_type": "markdown",
   "id": "613c8ae8",
   "metadata": {},
   "source": [
    "## Introduction"
   ]
  },
  {
   "cell_type": "markdown",
   "id": "7f75f0f0",
   "metadata": {},
   "source": [
    "The scientific theory and model of jet stream waviness plays a pivotal role in our understanding of atmospheric dynamics and climate patterns. The jet stream, a high-altitude, fast-flowing air current, is a key component of the Earth's atmospheric circulation. In recent years, researchers have been increasingly intrigued by the phenomenon of jet stream waviness, characterized by meandering patterns that deviate from the traditional straight and zonal flow. This waviness has been linked to a range of atmospheric and climatic phenomena, including extreme weather events, prolonged periods of heat or cold, and disruptions to regional weather patterns.\n",
    "\n",
    "Understanding the factors influencing jet stream waviness is crucial for predicting and mitigating the impacts of climate change on a global scale. Scientists employ sophisticated models and theories to investigate the intricate interactions between atmospheric components, such as temperature gradients, pressure systems, and the Coriolis effect, which contribute to the development of jet stream waviness. This research not only enhances our ability to forecast weather patterns but also provides valuable insights into the broader implications of a changing climate on ecosystems, agriculture, and human societies.\n"
   ]
  },
  {
   "cell_type": "markdown",
   "id": "874082a0",
   "metadata": {},
   "source": [
    "## Equations"
   ]
  },
  {
   "cell_type": "markdown",
   "id": "c4446939",
   "metadata": {},
   "source": [
    "The principle equation we are to solve is the Linearized Planetary Geostrophic Motion model. This model is used to describe the large-scale motion of the atmosphere under the influence of the Earth's rotation. Ine the The equation is as follows:"
   ]
  },
  {
   "cell_type": "markdown",
   "id": "bac645d0",
   "metadata": {},
   "source": [
    "\n",
    "$$\\frac{\\partial^2 \\phi_{L}}{\\partial z} - \\frac{1}{H} \\frac{\\partial\\phi_{L}}{\\partial z} + \\frac{\\beta_{L}S}{U} \\phi_{L}  = - \\Biggl ({k_{S} +\\frac{1}{H} \\Biggl)}  \\frac{Q_{0}}{U} F(x) e^{-k_{s}z}$$"
   ]
  },
  {
   "cell_type": "markdown",
   "id": "f1ba7547",
   "metadata": {},
   "source": [
    "The boundry conditions for the model are as follows:"
   ]
  },
  {
   "cell_type": "markdown",
   "id": "473d2e59",
   "metadata": {},
   "source": [
    "\n",
    "$$ U \\frac{\\partial}{\\partial x} \\frac{\\partial \\phi_{L}}{\\partial z} + Sw_{L}  = Q_{0} G(x)  e^{-k_{s}z}$$"
   ]
  },
  {
   "cell_type": "markdown",
   "id": "77b61776",
   "metadata": {},
   "source": [
    "\n",
    "$$ \\Biggl ( \\frac{\\partial}{\\partial z} - \\frac{1}{H}\\Biggl ) w_{L}  + Sw_{L}  = \\beta_{L} \\frac{\\partial \\phi_{L}}{\\partial x}$$"
   ]
  },
  {
   "cell_type": "markdown",
   "id": "4252a351",
   "metadata": {},
   "source": [
    "Add more about what these equations mean..."
   ]
  },
  {
   "cell_type": "markdown",
   "id": "e9d5c1ba",
   "metadata": {},
   "source": [
    "## Numerical methods"
   ]
  },
  {
   "cell_type": "code",
   "execution_count": 15,
   "id": "8c7cad27",
   "metadata": {},
   "outputs": [],
   "source": [
    "import numpy as np\n",
    "import matplotlib.pyplot as plt\n",
    "from scipy.sparse import spdiags\n",
    "import math\n"
   ]
  },
  {
   "cell_type": "markdown",
   "id": "e145f879",
   "metadata": {},
   "source": [
    "#### Define Varibles"
   ]
  },
  {
   "cell_type": "code",
   "execution_count": 16,
   "id": "6cc630cb",
   "metadata": {},
   "outputs": [
    {
     "ename": "SyntaxError",
     "evalue": "invalid syntax (<ipython-input-16-1af518b8ef1a>, line 12)",
     "output_type": "error",
     "traceback": [
      "\u001b[0;36m  File \u001b[0;32m\"<ipython-input-16-1af518b8ef1a>\"\u001b[0;36m, line \u001b[0;32m12\u001b[0m\n\u001b[0;31m    wl =    #vertical velicity\u001b[0m\n\u001b[0m            ^\u001b[0m\n\u001b[0;31mSyntaxError\u001b[0m\u001b[0;31m:\u001b[0m invalid syntax\n"
     ]
    }
   ],
   "source": [
    "#Main equation varibles\n",
    "#Phi = the pressure field\n",
    "\n",
    "H = 0.5\n",
    "beta = 1\n",
    "S = 1  #dimensionless vertical stability\n",
    "U = 1.5  #zonal mean barotropic wind\n",
    "Ks = 2\n",
    "Q0 = 0  #amplitude of the zonal asymetric forcing\n",
    "Fx = np.sin(2 * x) / 2\n",
    "\n",
    "#boundry condition varibles\n",
    "\n",
    "wl =    #vertical velicity\n",
    "Gx = np.cos(2 * x) \n",
    "print Gx"
   ]
  },
  {
   "cell_type": "markdown",
   "id": "d898098d",
   "metadata": {},
   "source": [
    "## Results"
   ]
  },
  {
   "cell_type": "markdown",
   "id": "1ab249bb",
   "metadata": {},
   "source": []
  },
  {
   "cell_type": "markdown",
   "id": "52289f89",
   "metadata": {},
   "source": [
    "## Figures"
   ]
  },
  {
   "cell_type": "code",
   "execution_count": null,
   "id": "6fce5c9f",
   "metadata": {},
   "outputs": [],
   "source": []
  },
  {
   "cell_type": "code",
   "execution_count": null,
   "id": "44088651",
   "metadata": {},
   "outputs": [],
   "source": []
  }
 ],
 "metadata": {
  "kernelspec": {
   "display_name": "Python 3",
   "language": "python",
   "name": "python3"
  },
  "language_info": {
   "codemirror_mode": {
    "name": "ipython",
    "version": 3
   },
   "file_extension": ".py",
   "mimetype": "text/x-python",
   "name": "python",
   "nbconvert_exporter": "python",
   "pygments_lexer": "ipython3",
   "version": "3.8.8"
  }
 },
 "nbformat": 4,
 "nbformat_minor": 5
}
