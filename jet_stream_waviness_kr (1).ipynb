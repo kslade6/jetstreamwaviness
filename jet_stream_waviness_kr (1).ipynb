{
 "cells": [
  {
   "cell_type": "markdown",
   "id": "f2c8ba02",
   "metadata": {},
   "source": [
    "# Modeling Jet Stream Waviness \n",
    "### Alyssa Dellinger, Elliana Hebert, Katie-Rose Slade"
   ]
  },
  {
   "cell_type": "markdown",
   "id": "80c66c4c",
   "metadata": {},
   "source": [
    "## Introduction"
   ]
  },
  {
   "cell_type": "markdown",
   "id": "e26fbf0e",
   "metadata": {},
   "source": [
    "The scientific theory and model of jet stream waviness plays a pivotal role in our understanding of atmospheric dynamics and climate patterns. The jet stream, a high-altitude, fast-flowing air current, is a key component of the Earth's atmospheric circulation. In recent years, researchers have been increasingly intrigued by the phenomenon of jet stream waviness, characterized by meandering patterns that deviate from the traditional straight and zonal flow. This waviness has been linked to a range of atmospheric and climatic phenomena, including extreme weather events, prolonged periods of heat or cold, and disruptions to regional weather patterns.\n",
    "\n",
    "Understanding the factors influencing jet stream waviness is crucial for predicting and mitigating the impacts of climate change on a global scale. Scientists employ sophisticated models and theories to investigate the intricate interactions between atmospheric components, such as temperature gradients, pressure systems, and the Coriolis effect, which contribute to the development of jet stream waviness. This research not only enhances our ability to forecast weather patterns but also provides valuable insights into the broader implications of a changing climate on ecosystems, agriculture, and human societies.\n",
    "\n",
    "The models in our paper focus primarily on how the Linearized Planetary Geostrophic Motion model will change as the zonally asymmetric thermal forcing changes with global warming. They use graphs to depict the flow of the jet stream in the y and z dimensions, in addition to how it looks reflected over the surface of the Earth. Alternatively, our paper focuses on the Linearized Planetary Geostrophic Motion model, and solving it for Phi as a function of elevation. This will show us how the pressure perturbations in the jet stream change with height. "
   ]
  },
  {
   "cell_type": "markdown",
   "id": "fe8c2348",
   "metadata": {},
   "source": [
    "## Equations"
   ]
  },
  {
   "cell_type": "markdown",
   "id": "93326dbc",
   "metadata": {},
   "source": [
    "#### Main Equation"
   ]
  },
  {
   "cell_type": "markdown",
   "id": "fe8572c7",
   "metadata": {},
   "source": [
    "The fundamental physical processes involved with this model include wind, pressure, rising motion, the coriolous effect and stability. These all contribute to the general understanding of the model and make up different aspects of the Jet Stream. The parameter \"phi\"  represents the perturbation in the pressure field of the jet stream. It is a fundamental part of the differential equation and how phi changes with respect to height is the focus of the following models."
   ]
  },
  {
   "cell_type": "markdown",
   "id": "1b52bc71",
   "metadata": {},
   "source": [
    "The principle equation we solved is the Linearized Planetary Geostrophic Motion model. This model is used to describe the large-scale motion of the atmosphere under the influence of the Earth's rotation. The Linearized Planetary Geostrophic Motion model is derived from the linearized steady-state planetary geostrophic equations that are then combined and integrated to produce equation [1]. The Linearized Planetary Geostrophic Motion model equation is as follows:"
   ]
  },
  {
   "cell_type": "markdown",
   "id": "b601ee1d",
   "metadata": {},
   "source": [
    "\n",
    "[1] $$\\frac{\\partial^2 \\phi_{L}}{\\partial z} - \\frac{1}{H} \\frac{\\partial\\phi_{L}}{\\partial z} + \\frac{\\beta_{L}S}{U} \\phi_{L}  = - \\Biggl ({k_{S} +\\frac{1}{H} \\Biggl)}  \\frac{Q_{0}}{U} F(x) e^{-k_{s}z}$$"
   ]
  },
  {
   "cell_type": "markdown",
   "id": "5b4609f9",
   "metadata": {},
   "source": [
    "The first term, $\\frac{\\partial^2 \\phi_{L}}{\\partial z}$ represents the second partial derivative of the phi term with respect to the vertical coordinate, z. It describes the curvature or concavity of teh perturbation in regards to the height. \n"
   ]
  },
  {
   "cell_type": "markdown",
   "id": "1560e148",
   "metadata": {},
   "source": [
    "The ssecond term, $\\frac{1}{H} \\frac{\\partial\\phi_{L}}{\\partial z}$ represents the effect of the bachground stratification. It dampens the model and is proportional to the first deriviative of $ \\phi_L $ with respect to z. "
   ]
  },
  {
   "cell_type": "markdown",
   "id": "b35316e2",
   "metadata": {},
   "source": [
    "The third term, $  \\frac{\\beta_{L}S}{U} \\phi_{L} $ describes the coriolis effect and the impact of the vertical stability on the geostrophic motion. "
   ]
  },
  {
   "cell_type": "markdown",
   "id": "a68e54c8",
   "metadata": {},
   "source": [
    "All of these terms are set equal to the forcing term on the right side of the equation. The terms on the left side of the equation represent the balence between the different forces and effects while the right side represents the external forcing applied to the system. "
   ]
  },
  {
   "cell_type": "markdown",
   "id": "7047e8c8",
   "metadata": {},
   "source": [
    "#### Constants"
   ]
  },
  {
   "cell_type": "markdown",
   "id": "8176fe0b",
   "metadata": {},
   "source": [
    "The model includes various constants that define different aspects of the model. The constants are dimensionless and serve to influence relationships between the different terms. The constants used in the equation are defined below: \n",
    "\n",
    "| Parameter     | Value| Description |\n",
    "|:---------:|:---------| :---------|\n",
    "| $$ \\beta_{L} $$  | 1      |   Beta Effect (Variation of the Coriolis Parameter with Latitude) |\n",
    "| $$H$$ | 0.5    | Scale Height | \n",
    "| $$S $$ | 1    |  Vertical Stability| \n",
    "| $$U $$ | 1.5     | Zonal Mean Barotropic Wind Velocity|\n",
    "| $$ k_{s}$$  | 2      | Vertical Structure of the Perturbation |\n",
    "|  $$ Q_{0}$$  | 0.5    | Amplitute of the Zonal Asymetric Forcing|\n",
    "|$$ F(x)$$ | $$\\frac{sin(2x)}{2}$$ | Function of the Horizontal Coordinate | \n"
   ]
  },
  {
   "cell_type": "markdown",
   "id": "8e73d60c",
   "metadata": {},
   "source": [
    "####  Boundry Conditions"
   ]
  },
  {
   "cell_type": "markdown",
   "id": "4d57f7fc",
   "metadata": {},
   "source": [
    "The boundry conditions for the model are required to limit the model to realistic conditions and show how the perturbation in pressure behaves as the lower and upper boundries of the domain. The boundry conditions are derived from the linearized steady-state planetary geostrophic equations that were used to produce the model. The boundary conditions for the model are as follows:"
   ]
  },
  {
   "cell_type": "markdown",
   "id": "5cb26067",
   "metadata": {},
   "source": [
    "\n",
    "[2] $$ z=0  \\rightarrow \\frac{\\partial \\phi_L }{\\partial z}\\Biggl |_{z=0} =  \\frac{Q_{0}}{U} F(x) $$"
   ]
  },
  {
   "cell_type": "markdown",
   "id": "a49ee1fd",
   "metadata": {},
   "source": [
    "[3] $$ z=1  \\rightarrow \\frac{\\partial \\phi_L }{\\partial z}\\Biggl |_{z=1} =  \\frac{Q_{0}}{U} F(x)e^{-k_{s}} $$"
   ]
  },
  {
   "cell_type": "markdown",
   "id": "2e56f947",
   "metadata": {},
   "source": [
    "Equation 2 describes the lower boundry for the model when z=0. It specifies that the perturbation of the pressure field at z=0 is equal to $ \\frac{Q_{0}}{U} F(x) $."
   ]
  },
  {
   "cell_type": "markdown",
   "id": "4e4ef8e8",
   "metadata": {},
   "source": [
    "Equation 3 describes the upper boundry for the model at z=1. It describes how the perturbation of the pressure field at z=1 is equal to $ \\frac{Q_{0}}{U}F(x)e^{-k_{s} }$. The addition of $ e^{-k_{s}} $ represents how the vertical structure of the perturbation effects the boundry conditions. "
   ]
  },
  {
   "cell_type": "markdown",
   "id": "4c6905a3",
   "metadata": {},
   "source": [
    "#### Initial Conditions"
   ]
  },
  {
   "cell_type": "markdown",
   "id": "63233172",
   "metadata": {},
   "source": [
    "To solve for the model, two matrices were created to initilize the conditions for the model. These matrices consist of blank matrices filled with zeros that will then be added to during the code in order to form a solution. "
   ]
  },
  {
   "cell_type": "markdown",
   "id": "ff041d8d",
   "metadata": {},
   "source": [
    "#### Assumptions"
   ]
  },
  {
   "cell_type": "markdown",
   "id": "ab513f70",
   "metadata": {},
   "source": [
    "The model represented is an idealized flow. Due to the model being idealized, it impacts the model in a variety of ways. The model is unitless, meaning that the constants and varibles are theoretical and have no definite values. For example, the z value, height, is bounded by z=0 and z=1. This is a unitless height that symbolizes the entirety of the atmosphere."
   ]
  },
  {
   "cell_type": "markdown",
   "id": "2cff847f",
   "metadata": {},
   "source": [
    " We assumed there is no interaction with the surface and no forcings other than the thermal forcing. These factors would have to be negligible in order to simplify the model enough to graph it. "
   ]
  }
 ],
 "metadata": {
  "kernelspec": {
   "display_name": "Python 3 (ipykernel)",
   "language": "python",
   "name": "python3"
  },
  "language_info": {
   "codemirror_mode": {
    "name": "ipython",
    "version": 3
   },
   "file_extension": ".py",
   "mimetype": "text/x-python",
   "name": "python",
   "nbconvert_exporter": "python",
   "pygments_lexer": "ipython3",
   "version": "3.9.12"
  }
 },
 "nbformat": 4,
 "nbformat_minor": 5
}
