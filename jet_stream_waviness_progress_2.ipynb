{
 "cells": [
  {
   "cell_type": "markdown",
   "id": "f2c8ba02",
   "metadata": {},
   "source": [
    "# Modeling Jet Stream Waviness \n",
    "### Alyssa Dellinger, Elliana Hebert, Katie-Rose Slade"
   ]
  },
  {
   "cell_type": "markdown",
   "id": "80c66c4c",
   "metadata": {},
   "source": [
    "## Introduction"
   ]
  },
  {
   "cell_type": "markdown",
   "id": "e26fbf0e",
   "metadata": {},
   "source": [
    "The scientific theory and model of jet stream waviness plays a pivotal role in our understanding of atmospheric dynamics and climate patterns. The jet stream, a high-altitude, fast-flowing air current, is a key component of the Earth's atmospheric circulation. In recent years, researchers have been increasingly intrigued by the phenomenon of jet stream waviness, characterized by meandering patterns that deviate from the traditional straight and zonal flow. This waviness has been linked to a range of atmospheric and climatic phenomena, including extreme weather events, prolonged periods of heat or cold, and disruptions to regional weather patterns.\n",
    "\n",
    "Understanding the factors influencing jet stream waviness is crucial for predicting and mitigating the impacts of climate change on a global scale. Scientists employ sophisticated models and theories to investigate the intricate interactions between atmospheric components, such as temperature gradients, pressure systems, and the Coriolis effect, which contribute to the development of jet stream waviness. This research not only enhances our ability to forecast weather patterns but also provides valuable insights into the broader implications of a changing climate on ecosystems, agriculture, and human societies.\n"
   ]
  },
  {
   "cell_type": "markdown",
   "id": "fe8c2348",
   "metadata": {},
   "source": [
    "## Equations"
   ]
  },
  {
   "cell_type": "markdown",
   "id": "1b52bc71",
   "metadata": {},
   "source": [
    "The principle equation we are to solve is the Linearized Planetary Geostrophic Motion model. This model is used to describe the large-scale motion of the atmosphere under the influence of the Earth's rotation. Ine the The equation is as follows:"
   ]
  },
  {
   "cell_type": "markdown",
   "id": "b601ee1d",
   "metadata": {},
   "source": [
    "\n",
    "$$\\frac{\\partial^2 \\phi_{L}}{\\partial z} - \\frac{1}{H} \\frac{\\partial\\phi_{L}}{\\partial z} + \\frac{\\beta_{L}S}{U} \\phi_{L}  = - \\Biggl ({k_{S} +\\frac{1}{H} \\Biggl)}  \\frac{Q_{0}}{U} F(x) e^{-k_{s}z}$$"
   ]
  },
  {
   "cell_type": "markdown",
   "id": "4d57f7fc",
   "metadata": {},
   "source": [
    "The boundary conditions for the model are as follows:"
   ]
  },
  {
   "cell_type": "markdown",
   "id": "5cb26067",
   "metadata": {},
   "source": [
    "\n",
    "$$ U \\frac{\\partial}{\\partial x} \\frac{\\partial \\phi_{L}}{\\partial z} + Sw_{L}  = Q_{0} G(x)  e^{-k_{s}z}$$"
   ]
  },
  {
   "cell_type": "markdown",
   "id": "a49ee1fd",
   "metadata": {},
   "source": [
    "\n",
    "$$ \\Biggl ( \\frac{\\partial}{\\partial z} - \\frac{1}{H}\\Biggl ) w_{L}  + Sw_{L}  = \\beta_{L} \\frac{\\partial \\phi_{L}}{\\partial x}$$"
   ]
  },
  {
   "cell_type": "markdown",
   "id": "8ccb2652",
   "metadata": {},
   "source": [
    "Add more about what these equations mean..."
   ]
  },
  {
   "cell_type": "markdown",
   "id": "e83fcc29",
   "metadata": {},
   "source": [
    "## Numerical methods"
   ]
  },
  {
   "cell_type": "markdown",
   "id": "087b7484",
   "metadata": {},
   "source": []
  },
  {
   "cell_type": "code",
   "execution_count": 1,
   "id": "fdb46ad3",
   "metadata": {},
   "outputs": [],
   "source": [
    "import numpy as np\n",
    "import matplotlib.pyplot as plt\n",
    "from scipy.sparse import spdiags\n",
    "import math"
   ]
  },
  {
   "cell_type": "markdown",
   "id": "59721893",
   "metadata": {},
   "source": [
    "#### Define Variables"
   ]
  },
  {
   "cell_type": "code",
   "execution_count": 42,
   "id": "332e8565",
   "metadata": {},
   "outputs": [],
   "source": [
    "#define parameters\n",
    "\n",
    "k_s = 2\n",
    "beta = 1\n",
    "H = 0.5\n",
    "S = 1\n",
    "U = 0.5\n",
    "\n",
    "q0 = 0.5 #amplitude of sin(2x)/2\n",
    "\n",
    "def f(x):\n",
    "    return np.sin(2*x)/2\n",
    "\n",
    "def g(x):\n",
    "    return np.cos(2*x)\n",
    "\n",
    "#q = np.sqrt((1/(4*H**2))-((beta*S)/U))\n"
   ]
  },
  {
   "cell_type": "markdown",
   "id": "6b18cc72",
   "metadata": {},
   "source": [
    "## Results"
   ]
  },
  {
   "cell_type": "markdown",
   "id": "8e717fa2",
   "metadata": {},
   "source": []
  },
  {
   "cell_type": "code",
   "execution_count": 43,
   "id": "5c3ac87f",
   "metadata": {},
   "outputs": [],
   "source": [
    "#x(og)=z\n",
    "#t(og)=x\n",
    "\n",
    "D = 1 #diffusion constant, idk value\n",
    "Cd= 0.1\n",
    "\n",
    "xf = 1000\n",
    "zf = 1\n",
    "\n",
    "nx = 1000\n",
    "nz = 1000\n",
    "\n",
    "x = np.linspace(0,xf,nx)\n",
    "z = np.linspace(0,zf,nz)\n",
    "\n",
    "dz = z[1]-z[0]\n",
    "dx = x[1]-x[0]\n"
   ]
  },
  {
   "cell_type": "code",
   "execution_count": 44,
   "id": "688678da",
   "metadata": {},
   "outputs": [],
   "source": [
    "#prop matrix\n",
    "\n",
    "data = np.array([Cd*np.ones(nz), (1-2*Cd)*np.ones(nz), Cd*np.ones(nz)])\n",
    "diags = np.array([-1, 0, 1])\n",
    "M = spdiags(data, diags, nz, nz).toarray()"
   ]
  },
  {
   "cell_type": "code",
   "execution_count": 76,
   "id": "5ac7fc02",
   "metadata": {},
   "outputs": [],
   "source": [
    "#Preallocate vectors\n",
    "\n",
    "phi = np.zeros([nz,nx+1]) #solution matrix\n",
    "phi_init = np.zeros([nz,1]) #initial conditions"
   ]
  },
  {
   "cell_type": "code",
   "execution_count": 81,
   "id": "77a2ed71",
   "metadata": {},
   "outputs": [],
   "source": [
    "#boundary conditions\n",
    "\n",
    "M[0,0] = (q0*U)*f(x[0]) \n",
    "M[-1,-1] = (q0/U)*f(x[-1])*np.exp(-1*k_s)\n",
    "\n",
    "F_known = np.zeros(nz)\n",
    "F_known[0] = D*dx/dz"
   ]
  },
  {
   "cell_type": "code",
   "execution_count": 82,
   "id": "7c0298b7",
   "metadata": {},
   "outputs": [],
   "source": [
    "#initial conditions\n",
    "\n",
    "#x1 = (x<L) #going up the hill\n",
    "#x2 = (x>L) #going down the hill\n",
    "#hinit[x1] = H_max_init*x[x1]/L \n",
    "#hinit[x2] = H_max_init*(2 - x[x2]/L)\n",
    "#\n",
    "#h[:,0] = hinit.transpose()\n",
    "\n",
    "#phi_init"
   ]
  },
  {
   "cell_type": "code",
   "execution_count": 85,
   "id": "353b1408",
   "metadata": {},
   "outputs": [],
   "source": [
    "#model\n",
    "\n",
    "for k in range(0,nx):\n",
    "    for i in range(0,nz):\n",
    "        phi[i,k+1] = (dz**2)/(1+(dz/H))*((k_s+(1/H))*(q0/U)*f(x[k])*np.exp(-1*k_s*z[i])-(1/H)*(phi[i,k]/dz)\n",
    "                                          +((beta*S)/U)*phi[i,k]+2*phi[i,k]-phi[i-1,k])\n",
    "    phi_new = np.matmul(M,phi[:,k]) - F_known\n",
    "    phi[:,k+1] = phi_new.transpose()\n",
    "    \n"
   ]
  },
  {
   "cell_type": "code",
   "execution_count": 88,
   "id": "e53e4bf8",
   "metadata": {},
   "outputs": [
    {
     "name": "stdout",
     "output_type": "stream",
     "text": [
      "(1000, 1001)\n",
      "[[    0.         -1000.         -1000.         ... -1104.14237047\n",
      "  -1104.14585566 -1104.14933563]\n",
      " [    0.             0.          -100.         ... -1041.4585566\n",
      "  -1041.49335625 -1041.52810379]\n",
      " [    0.             0.             0.         ...  -979.12273922\n",
      "   -979.18833226  -979.2538276 ]\n",
      " ...\n",
      " [    0.             0.             0.         ...     0.\n",
      "      0.             0.        ]\n",
      " [    0.             0.             0.         ...     0.\n",
      "      0.             0.        ]\n",
      " [    0.             0.             0.         ...     0.\n",
      "      0.             0.        ]]\n"
     ]
    }
   ],
   "source": [
    "print(phi.shape)\n",
    "print(phi)"
   ]
  },
  {
   "cell_type": "code",
   "execution_count": 87,
   "id": "0892160f",
   "metadata": {},
   "outputs": [
    {
     "data": {
      "image/png": "[encoded data removed]",
      "text/plain": [
       "<Figure size 640x480 with 1 Axes>"
      ]
     },
     "metadata": {},
     "output_type": "display_data"
    }
   ],
   "source": [
    "plt.plot(z,phi)\n",
    "plt.xlabel('z')\n",
    "plt.ylabel('$\\phi_L$')\n",
    "plt.title('$\\phi_L$ as a function of z')\n",
    "plt.show()"
   ]
  },
  {
   "cell_type": "code",
   "execution_count": 66,
   "id": "caf4a07b",
   "metadata": {},
   "outputs": [
    {
     "name": "stdout",
     "output_type": "stream",
     "text": [
      "(1000, 1000)\n",
      "(1000, 1001)\n"
     ]
    },
    {
     "ename": "TypeError",
     "evalue": "Shapes of x (1000, 1000) and z (1000, 1001) do not match",
     "output_type": "error",
     "traceback": [
      "\u001b[1;31m---------------------------------------------------------------------------\u001b[0m",
      "\u001b[1;31mTypeError\u001b[0m                                 Traceback (most recent call last)",
      "\u001b[1;32m~\\AppData\\Local\\Temp\\ipykernel_14440\\4135616023.py\u001b[0m in \u001b[0;36m<module>\u001b[1;34m\u001b[0m\n\u001b[0;32m      4\u001b[0m \u001b[0mprint\u001b[0m\u001b[1;33m(\u001b[0m\u001b[0mphi\u001b[0m\u001b[1;33m.\u001b[0m\u001b[0mshape\u001b[0m\u001b[1;33m)\u001b[0m\u001b[1;33m\u001b[0m\u001b[1;33m\u001b[0m\u001b[0m\n\u001b[0;32m      5\u001b[0m \u001b[1;33m\u001b[0m\u001b[0m\n\u001b[1;32m----> 6\u001b[1;33m \u001b[0mplt\u001b[0m\u001b[1;33m.\u001b[0m\u001b[0mcontour\u001b[0m\u001b[1;33m(\u001b[0m\u001b[0mZ\u001b[0m\u001b[1;33m,\u001b[0m\u001b[0mX\u001b[0m\u001b[1;33m,\u001b[0m\u001b[0mphi\u001b[0m\u001b[1;33m)\u001b[0m\u001b[1;33m\u001b[0m\u001b[1;33m\u001b[0m\u001b[0m\n\u001b[0m\u001b[0;32m      7\u001b[0m \u001b[1;33m\u001b[0m\u001b[0m\n",
      "\u001b[1;32m~\\Anaconda\\lib\\site-packages\\matplotlib\\pyplot.py\u001b[0m in \u001b[0;36mcontour\u001b[1;34m(data, *args, **kwargs)\u001b[0m\n\u001b[0;32m   2482\u001b[0m \u001b[1;33m@\u001b[0m\u001b[0m_copy_docstring_and_deprecators\u001b[0m\u001b[1;33m(\u001b[0m\u001b[0mAxes\u001b[0m\u001b[1;33m.\u001b[0m\u001b[0mcontour\u001b[0m\u001b[1;33m)\u001b[0m\u001b[1;33m\u001b[0m\u001b[1;33m\u001b[0m\u001b[0m\n\u001b[0;32m   2483\u001b[0m \u001b[1;32mdef\u001b[0m \u001b[0mcontour\u001b[0m\u001b[1;33m(\u001b[0m\u001b[1;33m*\u001b[0m\u001b[0margs\u001b[0m\u001b[1;33m,\u001b[0m \u001b[0mdata\u001b[0m\u001b[1;33m=\u001b[0m\u001b[1;32mNone\u001b[0m\u001b[1;33m,\u001b[0m \u001b[1;33m**\u001b[0m\u001b[0mkwargs\u001b[0m\u001b[1;33m)\u001b[0m\u001b[1;33m:\u001b[0m\u001b[1;33m\u001b[0m\u001b[1;33m\u001b[0m\u001b[0m\n\u001b[1;32m-> 2484\u001b[1;33m     __ret = gca().contour(\n\u001b[0m\u001b[0;32m   2485\u001b[0m         \u001b[1;33m*\u001b[0m\u001b[0margs\u001b[0m\u001b[1;33m,\u001b[0m \u001b[1;33m**\u001b[0m\u001b[1;33m(\u001b[0m\u001b[1;33m{\u001b[0m\u001b[1;34m\"data\"\u001b[0m\u001b[1;33m:\u001b[0m \u001b[0mdata\u001b[0m\u001b[1;33m}\u001b[0m \u001b[1;32mif\u001b[0m \u001b[0mdata\u001b[0m \u001b[1;32mis\u001b[0m \u001b[1;32mnot\u001b[0m \u001b[1;32mNone\u001b[0m \u001b[1;32melse\u001b[0m \u001b[1;33m{\u001b[0m\u001b[1;33m}\u001b[0m\u001b[1;33m)\u001b[0m\u001b[1;33m,\u001b[0m\u001b[1;33m\u001b[0m\u001b[1;33m\u001b[0m\u001b[0m\n\u001b[0;32m   2486\u001b[0m         **kwargs)\n",
      "\u001b[1;32m~\\Anaconda\\lib\\site-packages\\matplotlib\\__init__.py\u001b[0m in \u001b[0;36minner\u001b[1;34m(ax, data, *args, **kwargs)\u001b[0m\n\u001b[0;32m   1410\u001b[0m     \u001b[1;32mdef\u001b[0m \u001b[0minner\u001b[0m\u001b[1;33m(\u001b[0m\u001b[0max\u001b[0m\u001b[1;33m,\u001b[0m \u001b[1;33m*\u001b[0m\u001b[0margs\u001b[0m\u001b[1;33m,\u001b[0m \u001b[0mdata\u001b[0m\u001b[1;33m=\u001b[0m\u001b[1;32mNone\u001b[0m\u001b[1;33m,\u001b[0m \u001b[1;33m**\u001b[0m\u001b[0mkwargs\u001b[0m\u001b[1;33m)\u001b[0m\u001b[1;33m:\u001b[0m\u001b[1;33m\u001b[0m\u001b[1;33m\u001b[0m\u001b[0m\n\u001b[0;32m   1411\u001b[0m         \u001b[1;32mif\u001b[0m \u001b[0mdata\u001b[0m \u001b[1;32mis\u001b[0m \u001b[1;32mNone\u001b[0m\u001b[1;33m:\u001b[0m\u001b[1;33m\u001b[0m\u001b[1;33m\u001b[0m\u001b[0m\n\u001b[1;32m-> 1412\u001b[1;33m             \u001b[1;32mreturn\u001b[0m \u001b[0mfunc\u001b[0m\u001b[1;33m(\u001b[0m\u001b[0max\u001b[0m\u001b[1;33m,\u001b[0m \u001b[1;33m*\u001b[0m\u001b[0mmap\u001b[0m\u001b[1;33m(\u001b[0m\u001b[0msanitize_sequence\u001b[0m\u001b[1;33m,\u001b[0m \u001b[0margs\u001b[0m\u001b[1;33m)\u001b[0m\u001b[1;33m,\u001b[0m \u001b[1;33m**\u001b[0m\u001b[0mkwargs\u001b[0m\u001b[1;33m)\u001b[0m\u001b[1;33m\u001b[0m\u001b[1;33m\u001b[0m\u001b[0m\n\u001b[0m\u001b[0;32m   1413\u001b[0m \u001b[1;33m\u001b[0m\u001b[0m\n\u001b[0;32m   1414\u001b[0m         \u001b[0mbound\u001b[0m \u001b[1;33m=\u001b[0m \u001b[0mnew_sig\u001b[0m\u001b[1;33m.\u001b[0m\u001b[0mbind\u001b[0m\u001b[1;33m(\u001b[0m\u001b[0max\u001b[0m\u001b[1;33m,\u001b[0m \u001b[1;33m*\u001b[0m\u001b[0margs\u001b[0m\u001b[1;33m,\u001b[0m \u001b[1;33m**\u001b[0m\u001b[0mkwargs\u001b[0m\u001b[1;33m)\u001b[0m\u001b[1;33m\u001b[0m\u001b[1;33m\u001b[0m\u001b[0m\n",
      "\u001b[1;32m~\\Anaconda\\lib\\site-packages\\matplotlib\\axes\\_axes.py\u001b[0m in \u001b[0;36mcontour\u001b[1;34m(self, *args, **kwargs)\u001b[0m\n\u001b[0;32m   6295\u001b[0m         \"\"\"\n\u001b[0;32m   6296\u001b[0m         \u001b[0mkwargs\u001b[0m\u001b[1;33m[\u001b[0m\u001b[1;34m'filled'\u001b[0m\u001b[1;33m]\u001b[0m \u001b[1;33m=\u001b[0m \u001b[1;32mFalse\u001b[0m\u001b[1;33m\u001b[0m\u001b[1;33m\u001b[0m\u001b[0m\n\u001b[1;32m-> 6297\u001b[1;33m         \u001b[0mcontours\u001b[0m \u001b[1;33m=\u001b[0m \u001b[0mmcontour\u001b[0m\u001b[1;33m.\u001b[0m\u001b[0mQuadContourSet\u001b[0m\u001b[1;33m(\u001b[0m\u001b[0mself\u001b[0m\u001b[1;33m,\u001b[0m \u001b[1;33m*\u001b[0m\u001b[0margs\u001b[0m\u001b[1;33m,\u001b[0m \u001b[1;33m**\u001b[0m\u001b[0mkwargs\u001b[0m\u001b[1;33m)\u001b[0m\u001b[1;33m\u001b[0m\u001b[1;33m\u001b[0m\u001b[0m\n\u001b[0m\u001b[0;32m   6298\u001b[0m         \u001b[0mself\u001b[0m\u001b[1;33m.\u001b[0m\u001b[0m_request_autoscale_view\u001b[0m\u001b[1;33m(\u001b[0m\u001b[1;33m)\u001b[0m\u001b[1;33m\u001b[0m\u001b[1;33m\u001b[0m\u001b[0m\n\u001b[0;32m   6299\u001b[0m         \u001b[1;32mreturn\u001b[0m \u001b[0mcontours\u001b[0m\u001b[1;33m\u001b[0m\u001b[1;33m\u001b[0m\u001b[0m\n",
      "\u001b[1;32m~\\Anaconda\\lib\\site-packages\\matplotlib\\contour.py\u001b[0m in \u001b[0;36m__init__\u001b[1;34m(self, ax, levels, filled, linewidths, linestyles, hatches, alpha, origin, extent, cmap, colors, norm, vmin, vmax, extend, antialiased, nchunk, locator, transform, *args, **kwargs)\u001b[0m\n\u001b[0;32m    810\u001b[0m         \u001b[0mself\u001b[0m\u001b[1;33m.\u001b[0m\u001b[0m_transform\u001b[0m \u001b[1;33m=\u001b[0m \u001b[0mtransform\u001b[0m\u001b[1;33m\u001b[0m\u001b[1;33m\u001b[0m\u001b[0m\n\u001b[0;32m    811\u001b[0m \u001b[1;33m\u001b[0m\u001b[0m\n\u001b[1;32m--> 812\u001b[1;33m         \u001b[0mkwargs\u001b[0m \u001b[1;33m=\u001b[0m \u001b[0mself\u001b[0m\u001b[1;33m.\u001b[0m\u001b[0m_process_args\u001b[0m\u001b[1;33m(\u001b[0m\u001b[1;33m*\u001b[0m\u001b[0margs\u001b[0m\u001b[1;33m,\u001b[0m \u001b[1;33m**\u001b[0m\u001b[0mkwargs\u001b[0m\u001b[1;33m)\u001b[0m\u001b[1;33m\u001b[0m\u001b[1;33m\u001b[0m\u001b[0m\n\u001b[0m\u001b[0;32m    813\u001b[0m         \u001b[0mself\u001b[0m\u001b[1;33m.\u001b[0m\u001b[0m_process_levels\u001b[0m\u001b[1;33m(\u001b[0m\u001b[1;33m)\u001b[0m\u001b[1;33m\u001b[0m\u001b[1;33m\u001b[0m\u001b[0m\n\u001b[0;32m    814\u001b[0m \u001b[1;33m\u001b[0m\u001b[0m\n",
      "\u001b[1;32m~\\Anaconda\\lib\\site-packages\\matplotlib\\contour.py\u001b[0m in \u001b[0;36m_process_args\u001b[1;34m(self, corner_mask, *args, **kwargs)\u001b[0m\n\u001b[0;32m   1444\u001b[0m             \u001b[0mself\u001b[0m\u001b[1;33m.\u001b[0m\u001b[0m_corner_mask\u001b[0m \u001b[1;33m=\u001b[0m \u001b[0mcorner_mask\u001b[0m\u001b[1;33m\u001b[0m\u001b[1;33m\u001b[0m\u001b[0m\n\u001b[0;32m   1445\u001b[0m \u001b[1;33m\u001b[0m\u001b[0m\n\u001b[1;32m-> 1446\u001b[1;33m             \u001b[0mx\u001b[0m\u001b[1;33m,\u001b[0m \u001b[0my\u001b[0m\u001b[1;33m,\u001b[0m \u001b[0mz\u001b[0m \u001b[1;33m=\u001b[0m \u001b[0mself\u001b[0m\u001b[1;33m.\u001b[0m\u001b[0m_contour_args\u001b[0m\u001b[1;33m(\u001b[0m\u001b[0margs\u001b[0m\u001b[1;33m,\u001b[0m \u001b[0mkwargs\u001b[0m\u001b[1;33m)\u001b[0m\u001b[1;33m\u001b[0m\u001b[1;33m\u001b[0m\u001b[0m\n\u001b[0m\u001b[0;32m   1447\u001b[0m \u001b[1;33m\u001b[0m\u001b[0m\n\u001b[0;32m   1448\u001b[0m             \u001b[0m_mask\u001b[0m \u001b[1;33m=\u001b[0m \u001b[0mma\u001b[0m\u001b[1;33m.\u001b[0m\u001b[0mgetmask\u001b[0m\u001b[1;33m(\u001b[0m\u001b[0mz\u001b[0m\u001b[1;33m)\u001b[0m\u001b[1;33m\u001b[0m\u001b[1;33m\u001b[0m\u001b[0m\n",
      "\u001b[1;32m~\\Anaconda\\lib\\site-packages\\matplotlib\\contour.py\u001b[0m in \u001b[0;36m_contour_args\u001b[1;34m(self, args, kwargs)\u001b[0m\n\u001b[0;32m   1483\u001b[0m             \u001b[0margs\u001b[0m \u001b[1;33m=\u001b[0m \u001b[0margs\u001b[0m\u001b[1;33m[\u001b[0m\u001b[1;36m1\u001b[0m\u001b[1;33m:\u001b[0m\u001b[1;33m]\u001b[0m\u001b[1;33m\u001b[0m\u001b[1;33m\u001b[0m\u001b[0m\n\u001b[0;32m   1484\u001b[0m         \u001b[1;32melif\u001b[0m \u001b[0mNargs\u001b[0m \u001b[1;33m<=\u001b[0m \u001b[1;36m4\u001b[0m\u001b[1;33m:\u001b[0m\u001b[1;33m\u001b[0m\u001b[1;33m\u001b[0m\u001b[0m\n\u001b[1;32m-> 1485\u001b[1;33m             \u001b[0mx\u001b[0m\u001b[1;33m,\u001b[0m \u001b[0my\u001b[0m\u001b[1;33m,\u001b[0m \u001b[0mz\u001b[0m \u001b[1;33m=\u001b[0m \u001b[0mself\u001b[0m\u001b[1;33m.\u001b[0m\u001b[0m_check_xyz\u001b[0m\u001b[1;33m(\u001b[0m\u001b[0margs\u001b[0m\u001b[1;33m[\u001b[0m\u001b[1;33m:\u001b[0m\u001b[1;36m3\u001b[0m\u001b[1;33m]\u001b[0m\u001b[1;33m,\u001b[0m \u001b[0mkwargs\u001b[0m\u001b[1;33m)\u001b[0m\u001b[1;33m\u001b[0m\u001b[1;33m\u001b[0m\u001b[0m\n\u001b[0m\u001b[0;32m   1486\u001b[0m             \u001b[0margs\u001b[0m \u001b[1;33m=\u001b[0m \u001b[0margs\u001b[0m\u001b[1;33m[\u001b[0m\u001b[1;36m3\u001b[0m\u001b[1;33m:\u001b[0m\u001b[1;33m]\u001b[0m\u001b[1;33m\u001b[0m\u001b[1;33m\u001b[0m\u001b[0m\n\u001b[0;32m   1487\u001b[0m         \u001b[1;32melse\u001b[0m\u001b[1;33m:\u001b[0m\u001b[1;33m\u001b[0m\u001b[1;33m\u001b[0m\u001b[0m\n",
      "\u001b[1;32m~\\Anaconda\\lib\\site-packages\\matplotlib\\contour.py\u001b[0m in \u001b[0;36m_check_xyz\u001b[1;34m(self, args, kwargs)\u001b[0m\n\u001b[0;32m   1532\u001b[0m         \u001b[1;32melif\u001b[0m \u001b[0mx\u001b[0m\u001b[1;33m.\u001b[0m\u001b[0mndim\u001b[0m \u001b[1;33m==\u001b[0m \u001b[1;36m2\u001b[0m\u001b[1;33m:\u001b[0m\u001b[1;33m\u001b[0m\u001b[1;33m\u001b[0m\u001b[0m\n\u001b[0;32m   1533\u001b[0m             \u001b[1;32mif\u001b[0m \u001b[0mx\u001b[0m\u001b[1;33m.\u001b[0m\u001b[0mshape\u001b[0m \u001b[1;33m!=\u001b[0m \u001b[0mz\u001b[0m\u001b[1;33m.\u001b[0m\u001b[0mshape\u001b[0m\u001b[1;33m:\u001b[0m\u001b[1;33m\u001b[0m\u001b[1;33m\u001b[0m\u001b[0m\n\u001b[1;32m-> 1534\u001b[1;33m                 raise TypeError(\n\u001b[0m\u001b[0;32m   1535\u001b[0m                     f\"Shapes of x {x.shape} and z {z.shape} do not match\")\n\u001b[0;32m   1536\u001b[0m             \u001b[1;32mif\u001b[0m \u001b[0my\u001b[0m\u001b[1;33m.\u001b[0m\u001b[0mshape\u001b[0m \u001b[1;33m!=\u001b[0m \u001b[0mz\u001b[0m\u001b[1;33m.\u001b[0m\u001b[0mshape\u001b[0m\u001b[1;33m:\u001b[0m\u001b[1;33m\u001b[0m\u001b[1;33m\u001b[0m\u001b[0m\n",
      "\u001b[1;31mTypeError\u001b[0m: Shapes of x (1000, 1000) and z (1000, 1001) do not match"
     ]
    },
    {
     "data": {
      "image/png": "[encoded data removed]",
      "text/plain": [
       "<Figure size 640x480 with 1 Axes>"
      ]
     },
     "metadata": {},
     "output_type": "display_data"
    }
   ],
   "source": [
    "\n",
    "\n",
    "\n",
    "[Z,X] = np.meshgrid(z,x)\n",
    "\n",
    "print(X.shape)\n",
    "print(phi.shape)\n",
    "\n",
    "plt.contour(Z,X,phi)\n",
    "\n"
   ]
  },
  {
   "cell_type": "markdown",
   "id": "cdaf3b05",
   "metadata": {},
   "source": [
    "## Figures"
   ]
  },
  {
   "cell_type": "code",
   "execution_count": null,
   "id": "3473605f",
   "metadata": {},
   "outputs": [],
   "source": []
  },
  {
   "cell_type": "code",
   "execution_count": null,
   "id": "5f1f072a",
   "metadata": {},
   "outputs": [],
   "source": [
    "#chat gpt's solution - don't know whether it is useful\n",
    "\n",
    "import numpy as np\n",
    "import matplotlib.pyplot as plt\n",
    "\n",
    "# Parameters\n",
    "L = 1000.0  # Length of the domain\n",
    "T = 1.0   # Final time\n",
    "Nx = 100   # Number of spatial grid points\n",
    "Nt = 100   # Number of time steps\n",
    "\n",
    "# Spatial and temporal discretization\n",
    "dx = L / (Nx - 1)\n",
    "dt = T / Nt\n",
    "\n",
    "# Constants\n",
    "H = 0.5     # Characteristic vertical scale\n",
    "beta_L = 1.0\n",
    "S = 1.0\n",
    "U = 1.5     # Characteristic horizontal velocity scale\n",
    "k_S = 2.0\n",
    "Q0 = 1.0\n",
    "\n",
    "# Initial condition\n",
    "def initial_condition(x):\n",
    "    return np.sin(np.pi * x / L)\n",
    "\n",
    "# Initialize grid\n",
    "x_values = np.linspace(0, L, Nx)\n",
    "phi_L = initial_condition(x_values)\n",
    "\n",
    "# Time-stepping loop\n",
    "for n in range(1, Nt + 1):\n",
    "    # Compute the right-hand side\n",
    "    RHS = -((k_S + 1 / H) * Q0 / U) * np.exp(-k_S * x_values)\n",
    "\n",
    "    # Update phi_L using finite difference scheme\n",
    "    phi_L[1:-1] = phi_L[1:-1] + dt * (\n",
    "        (phi_L[2:] - 2 * phi_L[1:-1] + phi_L[:-2]) / dx**2\n",
    "        - (1 / H) * (phi_L[2:] - phi_L[:-2]) / (2 * dx)\n",
    "        + (beta_L * S / U) * phi_L[1:-1]\n",
    "        + RHS[1:-1]\n",
    "    )\n",
    "\n",
    "# Plot the result\n",
    "plt.plot(x_values, phi_L, label='Numerical Solution')\n",
    "plt.title('Numerical Solution of the PDE')\n",
    "plt.xlabel('x')\n",
    "plt.ylabel('$\\phi_L$')\n",
    "plt.legend()\n",
    "plt.show()\n"
   ]
  },
  {
   "cell_type": "code",
   "execution_count": null,
   "id": "a59b0874",
   "metadata": {},
   "outputs": [],
   "source": [
    "#chatgpt part 2\n",
    "\n",
    "import numpy as np\n",
    "import matplotlib.pyplot as plt\n",
    "\n",
    "# Parameters\n",
    "H = 0.5  # Example value for H, you should adjust according to your problem\n",
    "beta_L = 1.0  # Example value for beta_L\n",
    "k_S = 2.0  # Example value for k_S\n",
    "Q0 = 1.0  # Example value for Q0\n",
    "U = 1.5  # Example value for U\n",
    "\n",
    "# Spatial parameters\n",
    "L = 1000.0  # Total length\n",
    "Nx = 1000  # Number of spatial grid points\n",
    "dx = L / (Nx - 1)  # Spatial step size\n",
    "x_values = np.linspace(0, L, Nx)\n",
    "\n",
    "# Time parameters\n",
    "T = 1.0  # Total time\n",
    "Nt = 100  # Number of time steps\n",
    "dt = T / (Nt - 1)  # Time step size\n",
    "\n",
    "# Initial conditions\n",
    "phi_L = (Q0 / U) * (np.sin(2 * x_values) / 2)\n",
    "\n",
    "# Forward Euler method\n",
    "for n in range(1, Nt):\n",
    "    phi_L_new = np.zeros_like(phi_L)\n",
    "\n",
    "    for i in range(1, Nx - 1):\n",
    "        dz = (dt ** 2) / (1 + (dt / H))\n",
    "        source_term = (k_S + 1 / H) * (Q0 / U) * np.exp(-k_S * x_values[i])\n",
    "\n",
    "        phi_L_new[i] = dz * (\n",
    "            source_term\n",
    "            - (1 / H) * (phi_L[i] - phi_L[i - 1]) / dx\n",
    "            + (beta_L * S / U) * phi_L[i]\n",
    "            + 2 * phi_L[i]\n",
    "            - phi_L[i - 1]\n",
    "        )\n",
    "\n",
    "    phi_L = phi_L_new\n",
    "\n",
    "# Plot the result\n",
    "plt.plot(x_values, phi_L)\n",
    "plt.title(\"Solution of the PDE using Forward Euler\")\n",
    "plt.xlabel(\"z\")\n",
    "plt.ylabel(\"$\\phi_L$\")\n",
    "plt.show()\n"
   ]
  },
  {
   "cell_type": "code",
   "execution_count": null,
   "id": "5f141cf4",
   "metadata": {},
   "outputs": [],
   "source": [
    "#chatgpt pt 3\n",
    "\n",
    "import numpy as np\n",
    "import matplotlib.pyplot as plt\n",
    "\n",
    "# Parameters\n",
    "H = 1.0  # Example value for H, you should adjust according to your problem\n",
    "beta_L = 1.0  # Example value for beta_L\n",
    "k_S = 1.0  # Example value for k_S\n",
    "Q0 = 1.0  # Example value for Q0\n",
    "U = 1.0  # Example value for U\n",
    "S = 1.0  # Example value for S\n",
    "\n",
    "# Spatial parameters\n",
    "L = 10.0  # Total length\n",
    "Nx = 100  # Number of spatial grid points\n",
    "dx = L / (Nx - 1)  # Spatial step size\n",
    "x_values = np.linspace(0, L, Nx)\n",
    "\n",
    "# Initial conditions\n",
    "phi_L = (Q0 / U) * (np.sin(2 * x_values) / 2)\n",
    "\n",
    "# Forward Euler method (spatial only)\n",
    "for i in range(1, Nx - 1):\n",
    "    dz = dx ** 2  # Adjust the step size as needed\n",
    "    source_term = (k_S + 1 / H) * (Q0 / U) * np.exp(-k_S * x_values[i])\n",
    "\n",
    "    phi_L[i] = dz * (\n",
    "        source_term\n",
    "        - (1 / H) * (phi_L[i] - phi_L[i - 1]) / dx\n",
    "        + (beta_L * S / U) * phi_L[i]\n",
    "        + 2 * phi_L[i]\n",
    "        - phi_L[i - 1]\n",
    "    )\n",
    "\n",
    "# Plot the result\n",
    "plt.plot(x_values, phi_L)\n",
    "plt.title(\"Solution of the PDE in the Spatial Direction using Forward Euler\")\n",
    "plt.xlabel(\"z\")\n",
    "plt.ylabel(\"$\\phi_L$\")\n",
    "plt.show()\n"
   ]
  },
  {
   "cell_type": "code",
   "execution_count": null,
   "id": "c022269a",
   "metadata": {},
   "outputs": [],
   "source": [
    "#chatgpt pt 4\n",
    "\n",
    "import numpy as np\n",
    "import matplotlib.pyplot as plt\n",
    "\n",
    "# Parameters\n",
    "H = 1.0  # Example value for H, you should adjust according to your problem\n",
    "beta_L = 1.0  # Example value for beta_L\n",
    "k_S = 1.0  # Example value for k_S\n",
    "Q0 = 1.0  # Example value for Q0\n",
    "U = 1.0  # Example value for U\n",
    "S = 1.0  # Example value for S\n",
    "\n",
    "# Spatial parameters\n",
    "L = 10.0  # Total length\n",
    "Nx = 100  # Number of spatial grid points\n",
    "dx = L / (Nx - 1)  # Spatial step size\n",
    "x_values = np.linspace(0, L, Nx)\n",
    "\n",
    "# Time parameters\n",
    "T = 1.0  # Total time\n",
    "Nt = 100  # Number of time steps\n",
    "dt = T / (Nt - 1)  # Time step size\n",
    "\n",
    "# Advection and diffusion coefficients\n",
    "u = -1 / H\n",
    "D = (beta_L * S) / U\n",
    "\n",
    "# Initial conditions\n",
    "phi_L = (Q0 / U) * (np.sin(2 * x_values) / 2)\n",
    "\n",
    "# Finite Difference Method\n",
    "for n in range(1, Nt):\n",
    "    phi_L_new = np.zeros_like(phi_L)\n",
    "\n",
    "    for i in range(1, Nx - 1):\n",
    "        # Advection term\n",
    "        adv = u * (phi_L[i + 1] - phi_L[i - 1]) / (2 * dx)\n",
    "\n",
    "        # Diffusion term\n",
    "        diff = D * (phi_L[i + 1] - 2 * phi_L[i] + phi_L[i - 1]) / (dx**2)\n",
    "\n",
    "        # Source term\n",
    "        source_term = S\n",
    "\n",
    "        # Update using finite difference method\n",
    "        phi_L_new[i] = phi_L[i] + dt * (adv + diff + source_term)\n",
    "\n",
    "    phi_L = phi_L_new\n",
    "\n",
    "# Plot the result\n",
    "plt.plot(x_values, phi_L)\n",
    "plt.title(\"Solution of Advection-Diffusion Equation using Finite Difference Method\")\n",
    "plt.xlabel(\"z\")\n",
    "plt.ylabel(\"$\\phi_L$\")\n",
    "plt.show()\n"
   ]
  },
  {
   "cell_type": "code",
   "execution_count": null,
   "id": "2c46285f",
   "metadata": {},
   "outputs": [],
   "source": [
    "#chatgpt 5\n",
    "\n",
    "import numpy as np\n",
    "import matplotlib.pyplot as plt\n",
    "\n",
    "# Parameters\n",
    "H = 1.0  # Example value for H, you should adjust according to your problem\n",
    "beta_L = 1.0  # Example value for beta_L\n",
    "k_S = 1.0  # Example value for k_S\n",
    "Q0 = 1.0  # Example value for Q0\n",
    "U = 1.0  # Example value for U\n",
    "S = 1.0  # Example value for S\n",
    "\n",
    "# Spatial parameters\n",
    "L = 10.0  # Total length\n",
    "Nx = 100  # Number of spatial grid points\n",
    "dx = L / (Nx - 1)  # Spatial step size\n",
    "x_values = np.linspace(0, L, Nx)\n",
    "\n",
    "# Advection and diffusion coefficients\n",
    "u = -1 / H\n",
    "D = (beta_L * S) / U\n",
    "\n",
    "# Initial conditions\n",
    "phi_L = (Q0 / U) * (np.sin(2 * x_values) / 2)\n",
    "\n",
    "# Finite Difference Method (spatial only)\n",
    "for i in range(1, Nx - 1):\n",
    "    # Advection term\n",
    "    adv = u * (phi_L[i + 1] - phi_L[i - 1]) / (2 * dx)\n",
    "\n",
    "    # Diffusion term\n",
    "    diff = D * (phi_L[i + 1] - 2 * phi_L[i] + phi_L[i - 1]) / (dx**2)\n",
    "\n",
    "    # Source term\n",
    "    source_term = - (k_S + 1 / H) * (Q0 / U) * np.exp(-k_S * x_values[i]) * (np.sin(2 * x_values[i]) / 2)\n",
    "\n",
    "    # Update using finite difference method\n",
    "    phi_L[i] = phi_L[i] + dx * (adv + diff + source_term)\n",
    "\n",
    "# Plot the result\n",
    "plt.plot(x_values, phi_L)\n",
    "plt.title(\"Solution of Spatial Advection-Diffusion Equation using Finite Difference Method\")\n",
    "plt.xlabel(\"z\")\n",
    "plt.ylabel(\"$\\phi_L$\")\n",
    "plt.show()\n"
   ]
  },
  {
   "cell_type": "code",
   "execution_count": null,
   "id": "c9c25349",
   "metadata": {},
   "outputs": [],
   "source": []
  }
 ],
 "metadata": {
  "kernelspec": {
   "display_name": "Python 3 (ipykernel)",
   "language": "python",
   "name": "python3"
  },
  "language_info": {
   "codemirror_mode": {
    "name": "ipython",
    "version": 3
   },
   "file_extension": ".py",
   "mimetype": "text/x-python",
   "name": "python",
   "nbconvert_exporter": "python",
   "pygments_lexer": "ipython3",
   "version": "3.9.13"
  }
 },
 "nbformat": 4,
 "nbformat_minor": 5
}
